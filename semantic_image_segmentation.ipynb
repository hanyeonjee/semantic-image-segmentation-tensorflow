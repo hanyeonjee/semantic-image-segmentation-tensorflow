{
  "nbformat": 4,
  "nbformat_minor": 0,
  "metadata": {
    "colab": {
      "name": "semantic_image_segmentation.ipynb",
      "provenance": [],
      "collapsed_sections": [],
      "mount_file_id": "1OFFOJe_C6kXTZ5_MKoT8LTF2gL43A7HH",
      "authorship_tag": "ABX9TyMlszSt+WTuNAG+UEk7hRV2",
      "include_colab_link": true
    },
    "kernelspec": {
      "name": "python3",
      "display_name": "Python 3"
    },
    "language_info": {
      "name": "python"
    },
    "accelerator": "GPU"
  },
  "cells": [
    {
      "cell_type": "markdown",
      "metadata": {
        "id": "view-in-github",
        "colab_type": "text"
      },
      "source": [
        "<a href=\"https://colab.research.google.com/github/hanyeonjee/semantic-image-segmentation-tensorflow/blob/main/semantic_image_segmentation.ipynb\" target=\"_parent\"><img src=\"https://colab.research.google.com/assets/colab-badge.svg\" alt=\"Open In Colab\"/></a>"
      ]
    },
    {
      "cell_type": "code",
      "metadata": {
        "id": "nxO4PdL564xk"
      },
      "source": [
        "from __future__ import print_function\n",
        "import tensorflow as tf\n",
        "import numpy as np\n",
        "import datetime\n",
        "\n",
        "import TensorflowUtils as utils\n",
        "import read_MITSceneParsingData as scene_parsing"
      ],
      "execution_count": 7,
      "outputs": []
    },
    {
      "cell_type": "code",
      "metadata": {
        "id": "lCq4VO0IPEyY"
      },
      "source": [
        ""
      ],
      "execution_count": null,
      "outputs": []
    }
  ]
}